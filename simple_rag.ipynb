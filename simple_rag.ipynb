{
 "cells": [
  {
   "cell_type": "code",
   "execution_count": 4,
   "id": "6d27038e-24c5-4a15-a187-483a309d6c3d",
   "metadata": {},
   "outputs": [
    {
     "name": "stdout",
     "output_type": "stream",
     "text": [
      "Note: you may need to restart the kernel to use updated packages.\n"
     ]
    }
   ],
   "source": [
    "pip install -qU langchain-community"
   ]
  },
  {
   "cell_type": "code",
   "execution_count": 5,
   "id": "56f4dcc0-2781-49e0-afad-f02737b1ad37",
   "metadata": {},
   "outputs": [
    {
     "name": "stdout",
     "output_type": "stream",
     "text": [
      "Note: you may need to restart the kernel to use updated packages.\n"
     ]
    }
   ],
   "source": [
    "pip install -qU langchain-community faiss-cpu"
   ]
  },
  {
   "cell_type": "code",
   "execution_count": 8,
   "id": "701a2662-fe41-4ccb-bf5f-ddb133ef0a7f",
   "metadata": {},
   "outputs": [
    {
     "name": "stdout",
     "output_type": "stream",
     "text": [
      "Note: you may need to restart the kernel to use updated packages.\n"
     ]
    }
   ],
   "source": [
    "%pip install -qU langchain-ollama"
   ]
  },
  {
   "cell_type": "code",
   "execution_count": 14,
   "id": "a5e339f1-8b9f-4a43-980c-7143eadd59d3",
   "metadata": {},
   "outputs": [
    {
     "name": "stdout",
     "output_type": "stream",
     "text": [
      "Collecting pypdf\n",
      "  Using cached pypdf-5.1.0-py3-none-any.whl.metadata (7.2 kB)\n",
      "Using cached pypdf-5.1.0-py3-none-any.whl (297 kB)\n",
      "Installing collected packages: pypdf\n",
      "Successfully installed pypdf-5.1.0\n",
      "Note: you may need to restart the kernel to use updated packages.\n"
     ]
    }
   ],
   "source": [
    "pip install pypdf"
   ]
  },
  {
   "cell_type": "code",
   "execution_count": 9,
   "id": "1e966039-1fba-498f-b421-60517dafe951",
   "metadata": {},
   "outputs": [],
   "source": [
    "from langchain_community.document_loaders import PyPDFLoader\n",
    "from langchain_text_splitters.character import RecursiveCharacterTextSplitter\n",
    "from langchain_community.vectorstores import FAISS\n",
    "from langchain_ollama import OllamaEmbeddings"
   ]
  },
  {
   "cell_type": "code",
   "execution_count": 20,
   "id": "4f49d5b1-a321-47aa-b7a0-517c430dcdc0",
   "metadata": {},
   "outputs": [],
   "source": [
    "path = \"./data/understandingclimatechange.pdf\""
   ]
  },
  {
   "cell_type": "code",
   "execution_count": 23,
   "id": "f9e4ebb2-bf31-44bf-8ac2-750dbe0373d0",
   "metadata": {},
   "outputs": [],
   "source": [
    "def encode_pdf(path, chunk_size=1000, chunk_overlap=200):\n",
    "    \"\"\"\n",
    "    Encodes a PDF book into a vector store using OpenAI embeddings.\n",
    "\n",
    "    Args:\n",
    "        path: The path to the PDF file.\n",
    "        chunk_size: The desired size of each text chunk.\n",
    "        chunk_overlap: The amount of overlap between consecutive chunks.\n",
    "\n",
    "    Returns:\n",
    "        A FAISS vector store containing the encoded book content.\n",
    "    \"\"\"\n",
    "\n",
    "    # Load PDF documents\n",
    "    loader = PyPDFLoader(path)\n",
    "    documents = loader.load()\n",
    "\n",
    "    # Split documents into chunks\n",
    "    text_splitter = RecursiveCharacterTextSplitter(\n",
    "        chunk_size=chunk_size, chunk_overlap=chunk_overlap, length_function=len\n",
    "    )\n",
    "    texts = text_splitter.split_documents(documents)\n",
    "\n",
    "    embeddings = OllamaEmbeddings(\n",
    "        model=\"llama3.2:3b-instruct-fp16\",\n",
    "    )\n",
    "\n",
    "    # Create vector store\n",
    "    vectorstore = FAISS.from_documents(texts, embeddings)\n",
    "\n",
    "    return vectorstore"
   ]
  },
  {
   "cell_type": "code",
   "execution_count": 24,
   "id": "c8dea252-8ee9-4d71-998a-874ec6eeba2c",
   "metadata": {},
   "outputs": [],
   "source": [
    "chunks_vector_store = encode_pdf(path, chunk_size=1000, chunk_overlap=200)"
   ]
  },
  {
   "cell_type": "code",
   "execution_count": 25,
   "id": "917d215e-ff69-4009-a4a1-553c2924e5a9",
   "metadata": {},
   "outputs": [],
   "source": [
    "chunks_query_retriever = chunks_vector_store.as_retriever(search_kwargs={\"k\": 2})"
   ]
  },
  {
   "cell_type": "code",
   "execution_count": 30,
   "id": "85a13a4c-c4e6-4224-94fe-c005a3b1bbd6",
   "metadata": {},
   "outputs": [
    {
     "name": "stdout",
     "output_type": "stream",
     "text": [
      "Context #1\n",
      "atmospheric carbon dioxide has increased by more than 30 percent during the same period due to \n",
      "human activity, predominantly the burning of fossil fuels and to a lesser extent deforestation and \n",
      "other land use changes, along with industrial activities such as cement production.\n",
      "Context #2\n",
      "now the issue of climate change has  been confined almost entirely to the research community \n",
      "and very difficult concept for many people to understand  considering the rise of climate \n",
      "skepticism (Crutezen, 2000, Steffen, 2002). \n",
      " \n",
      "What is Climate? \n",
      "The term ‗climate‘  refers to a statistical descr iption of weather in terms of the mean and \n",
      "variability of temperature, precipitation and wind over a period of time, ranging from months to \n",
      "millions of years (the classical period is 30 - 35 years) and of the related conditions of oceans , \n",
      "land surfaces including human perturbations and ice sheets(Hoyt and Schatter, 1997).The climate \n",
      "in any given area is actuallya complex and interactive system consisting of the atmosphere, land \n",
      "surface, snow and ice, oc eans, other bodies of water and living things. The climate system also \n",
      "evolves over time under the influence of its own internal and external dynamics called \n",
      "‗forcing‘(Schneider, 2001).  \n",
      " \n",
      "How has climate changed in the past?\n"
     ]
    }
   ],
   "source": [
    "test_query = \"What is the main cause of climate change?\"\n",
    "context = chunks_query_retriever.invoke(test_query)\n",
    "for i, doc in enumerate(context):\n",
    "    print(f'Context #{i+1}')\n",
    "    print(doc.page_content)"
   ]
  },
  {
   "cell_type": "code",
   "execution_count": null,
   "id": "590841e7-e862-4467-9c6f-13ca2784aaea",
   "metadata": {},
   "outputs": [],
   "source": []
  }
 ],
 "metadata": {
  "kernelspec": {
   "display_name": "Python 3 (ipykernel)",
   "language": "python",
   "name": "python3"
  },
  "language_info": {
   "codemirror_mode": {
    "name": "ipython",
    "version": 3
   },
   "file_extension": ".py",
   "mimetype": "text/x-python",
   "name": "python",
   "nbconvert_exporter": "python",
   "pygments_lexer": "ipython3",
   "version": "3.12.8"
  }
 },
 "nbformat": 4,
 "nbformat_minor": 5
}
